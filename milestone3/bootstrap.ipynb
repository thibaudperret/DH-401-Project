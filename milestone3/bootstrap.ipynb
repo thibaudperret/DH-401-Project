{
 "cells": [
  {
   "cell_type": "code",
   "execution_count": 1,
   "metadata": {},
   "outputs": [],
   "source": [
    "import numpy as np\n",
    "import pandas as pd\n",
    "import matplotlib.pyplot as plt"
   ]
  },
  {
   "cell_type": "markdown",
   "metadata": {},
   "source": [
    "### Generating dummy data"
   ]
  },
  {
   "cell_type": "code",
   "execution_count": 2,
   "metadata": {},
   "outputs": [],
   "source": [
    "# all of this ressembles the kind of data we will get from the Google forms, however, we will for sure need to readapt the code, \n",
    "# as everything may not be perfectly as in here\n",
    "\n",
    "genders = ['M', 'F', 'O'] # male, female, other\n",
    "section_categories = [\n",
    "    'comp_science',\n",
    "    'basic_science',\n",
    "    'engineering',\n",
    "    'life_science',\n",
    "    'civil_engineering',\n",
    "    'management',\n",
    "    'humanities'\n",
    "]\n",
    "sections_mapping = {\n",
    "    'Computer Science': 0,\n",
    "    'Communication Systems': 0,\n",
    "    'Data Science': 0,\n",
    "    'Cyber Security': 0,\n",
    "    'Molecular and Biological Chemistry': 1,\n",
    "    'Chemical Engineering and Biotechnology': 1,\n",
    "    'Mathematics': 1,\n",
    "    'Applied Mathematics': 1,\n",
    "    'Computational Science': 1,\n",
    "    'Physics': 1,\n",
    "    'Applied Physics': 1,\n",
    "    'Nuclear Engineering': 1,\n",
    "    'Electrical Engineering': 2,\n",
    "    'Mechanical Engineering': 2,\n",
    "    'Microengineering': 2,\n",
    "    'Robotics': 2,\n",
    "    'Materials Science and Engineering': 2,\n",
    "    'Energy Science and Technology': 2,\n",
    "    'Life Sciences Engineering': 3,\n",
    "    'Architecture': 4,\n",
    "    'Civil Engineering': 4,\n",
    "    'Environmental Sciences and Engineering': 4,\n",
    "    'Financial Engineering': 5,\n",
    "    'Management, technology and entrepreneurship': 5,\n",
    "    'Digital Humanities': 6\n",
    "}\n",
    "genres = [\n",
    "    'Classical',\n",
    "    'Rock',\n",
    "    'Pop',\n",
    "    'R&B and Soul',\n",
    "    'Electronic',\n",
    "    'Folk',\n",
    "    'Jazz',\n",
    "    'Blues',\n",
    "    'Hip hop'\n",
    "]"
   ]
  },
  {
   "cell_type": "code",
   "execution_count": 3,
   "metadata": {},
   "outputs": [],
   "source": [
    "def random(l):\n",
    "    '''Returns a random element from l'''\n",
    "    return l[np.random.randint(len(l))]"
   ]
  },
  {
   "cell_type": "code",
   "execution_count": 4,
   "metadata": {},
   "outputs": [],
   "source": [
    "def random_row():\n",
    "    '''Generates a random row as we might get from the Google form'''\n",
    "    l = []\n",
    "    \n",
    "    # basic info\n",
    "    l.append(np.random.randint(18, 27))\n",
    "    l.append(random(genders))\n",
    "    l.append(random(list(sections_mapping.keys())))\n",
    "    \n",
    "    # musical taste info\n",
    "    for i in range(len(genres)):\n",
    "        # trying to get different distributions between computer science and the others\n",
    "        if section_categories[sections_mapping[l[2]]] == 'comp_science':\n",
    "            # l.append((2 * np.abs(np.random.normal(0.5, 0.5) + np.random.normal(4.5, 1.5))) // 1 / 2)\n",
    "            l.append([2, 3, 0, 0, 2, 3, 7, 1, 2][i])\n",
    "        else:\n",
    "            l.append((2 * np.abs(np.random.normal(2, 2))) // 1 / 2)\n",
    "    \n",
    "    return l"
   ]
  },
  {
   "cell_type": "code",
   "execution_count": 5,
   "metadata": {},
   "outputs": [],
   "source": [
    "# writing the dummy data\n",
    "with open('dummy.csv', 'w') as fp:\n",
    "    fp.write('\"Age\",\"Gender\",\"Section\",\"' + '\",\"'.join(genres) + '\"\\n')\n",
    "    for _ in range(100):\n",
    "        fp.write('\"' + '\",\"'.join([str(val) for val in random_row()]) + '\"\\n')"
   ]
  },
  {
   "cell_type": "markdown",
   "metadata": {},
   "source": [
    "### As if"
   ]
  },
  {
   "cell_type": "code",
   "execution_count": 6,
   "metadata": {},
   "outputs": [],
   "source": [
    "data = pd.read_csv('dummy.csv')"
   ]
  },
  {
   "cell_type": "code",
   "execution_count": 7,
   "metadata": {},
   "outputs": [
    {
     "data": {
      "text/plain": [
       "Age               int64\n",
       "Gender           object\n",
       "Section          object\n",
       "Classical       float64\n",
       "Rock            float64\n",
       "Pop             float64\n",
       "R&B and Soul    float64\n",
       "Electronic      float64\n",
       "Folk            float64\n",
       "Jazz            float64\n",
       "Blues           float64\n",
       "Hip hop         float64\n",
       "dtype: object"
      ]
     },
     "execution_count": 7,
     "metadata": {},
     "output_type": "execute_result"
    }
   ],
   "source": [
    "data.dtypes"
   ]
  },
  {
   "cell_type": "code",
   "execution_count": 8,
   "metadata": {},
   "outputs": [],
   "source": [
    "# Creating a new column 'School' using the mapping defined at the beginning\n",
    "data['School'] = [section_categories[sections_mapping[val]] for val in data['Section']]"
   ]
  },
  {
   "cell_type": "code",
   "execution_count": 9,
   "metadata": {},
   "outputs": [
    {
     "data": {
      "text/html": [
       "<div>\n",
       "<style scoped>\n",
       "    .dataframe tbody tr th:only-of-type {\n",
       "        vertical-align: middle;\n",
       "    }\n",
       "\n",
       "    .dataframe tbody tr th {\n",
       "        vertical-align: top;\n",
       "    }\n",
       "\n",
       "    .dataframe thead th {\n",
       "        text-align: right;\n",
       "    }\n",
       "</style>\n",
       "<table border=\"1\" class=\"dataframe\">\n",
       "  <thead>\n",
       "    <tr style=\"text-align: right;\">\n",
       "      <th></th>\n",
       "      <th>Age</th>\n",
       "      <th>Gender</th>\n",
       "      <th>Section</th>\n",
       "      <th>Classical</th>\n",
       "      <th>Rock</th>\n",
       "      <th>Pop</th>\n",
       "      <th>R&amp;B and Soul</th>\n",
       "      <th>Electronic</th>\n",
       "      <th>Folk</th>\n",
       "      <th>Jazz</th>\n",
       "      <th>Blues</th>\n",
       "      <th>Hip hop</th>\n",
       "      <th>School</th>\n",
       "    </tr>\n",
       "  </thead>\n",
       "  <tbody>\n",
       "    <tr>\n",
       "      <th>0</th>\n",
       "      <td>25</td>\n",
       "      <td>O</td>\n",
       "      <td>Nuclear Engineering</td>\n",
       "      <td>1.5</td>\n",
       "      <td>5.5</td>\n",
       "      <td>2.0</td>\n",
       "      <td>4.0</td>\n",
       "      <td>0.0</td>\n",
       "      <td>1.0</td>\n",
       "      <td>0.5</td>\n",
       "      <td>2.0</td>\n",
       "      <td>0.0</td>\n",
       "      <td>basic_science</td>\n",
       "    </tr>\n",
       "    <tr>\n",
       "      <th>1</th>\n",
       "      <td>18</td>\n",
       "      <td>M</td>\n",
       "      <td>Financial Engineering</td>\n",
       "      <td>2.0</td>\n",
       "      <td>4.0</td>\n",
       "      <td>1.0</td>\n",
       "      <td>4.5</td>\n",
       "      <td>3.5</td>\n",
       "      <td>0.5</td>\n",
       "      <td>2.0</td>\n",
       "      <td>2.0</td>\n",
       "      <td>1.0</td>\n",
       "      <td>management</td>\n",
       "    </tr>\n",
       "    <tr>\n",
       "      <th>2</th>\n",
       "      <td>22</td>\n",
       "      <td>M</td>\n",
       "      <td>Architecture</td>\n",
       "      <td>1.5</td>\n",
       "      <td>0.0</td>\n",
       "      <td>1.5</td>\n",
       "      <td>4.5</td>\n",
       "      <td>3.0</td>\n",
       "      <td>0.0</td>\n",
       "      <td>1.0</td>\n",
       "      <td>3.5</td>\n",
       "      <td>0.5</td>\n",
       "      <td>civil_engineering</td>\n",
       "    </tr>\n",
       "    <tr>\n",
       "      <th>3</th>\n",
       "      <td>25</td>\n",
       "      <td>F</td>\n",
       "      <td>Materials Science and Engineering</td>\n",
       "      <td>2.5</td>\n",
       "      <td>2.5</td>\n",
       "      <td>1.0</td>\n",
       "      <td>1.5</td>\n",
       "      <td>2.0</td>\n",
       "      <td>1.0</td>\n",
       "      <td>0.0</td>\n",
       "      <td>4.5</td>\n",
       "      <td>3.5</td>\n",
       "      <td>engineering</td>\n",
       "    </tr>\n",
       "    <tr>\n",
       "      <th>4</th>\n",
       "      <td>21</td>\n",
       "      <td>F</td>\n",
       "      <td>Cyber Security</td>\n",
       "      <td>2.0</td>\n",
       "      <td>3.0</td>\n",
       "      <td>0.0</td>\n",
       "      <td>0.0</td>\n",
       "      <td>2.0</td>\n",
       "      <td>3.0</td>\n",
       "      <td>7.0</td>\n",
       "      <td>1.0</td>\n",
       "      <td>2.0</td>\n",
       "      <td>comp_science</td>\n",
       "    </tr>\n",
       "  </tbody>\n",
       "</table>\n",
       "</div>"
      ],
      "text/plain": [
       "   Age Gender                            Section  Classical  Rock  Pop  \\\n",
       "0   25      O                Nuclear Engineering        1.5   5.5  2.0   \n",
       "1   18      M              Financial Engineering        2.0   4.0  1.0   \n",
       "2   22      M                       Architecture        1.5   0.0  1.5   \n",
       "3   25      F  Materials Science and Engineering        2.5   2.5  1.0   \n",
       "4   21      F                     Cyber Security        2.0   3.0  0.0   \n",
       "\n",
       "   R&B and Soul  Electronic  Folk  Jazz  Blues  Hip hop             School  \n",
       "0           4.0         0.0   1.0   0.5    2.0      0.0      basic_science  \n",
       "1           4.5         3.5   0.5   2.0    2.0      1.0         management  \n",
       "2           4.5         3.0   0.0   1.0    3.5      0.5  civil_engineering  \n",
       "3           1.5         2.0   1.0   0.0    4.5      3.5        engineering  \n",
       "4           0.0         2.0   3.0   7.0    1.0      2.0       comp_science  "
      ]
     },
     "execution_count": 9,
     "metadata": {},
     "output_type": "execute_result"
    }
   ],
   "source": [
    "data.head()"
   ]
  },
  {
   "cell_type": "code",
   "execution_count": 10,
   "metadata": {},
   "outputs": [],
   "source": [
    "def vectors_per_school(data):\n",
    "    '''Creates a dictionary with keys being each school, and the values the vector representing the musical taste'''\n",
    "    vectors_dict = {}\n",
    "    for school in section_categories:\n",
    "        vectors_dict[school] = data[data['School'] == school][data.columns[3:-1]].values\n",
    "        \n",
    "    return vectors_dict"
   ]
  },
  {
   "cell_type": "code",
   "execution_count": 11,
   "metadata": {},
   "outputs": [],
   "source": [
    "def binary_vectors(data, school):\n",
    "    '''Creates two list of vectors, one for the given school, one for all the other'''\n",
    "    vectors = []\n",
    "    vectors.append(data[data['School'] == school][data.columns[3:-1]].values)\n",
    "    vectors.append(data[data['School'] != school][data.columns[3:-1]].values)\n",
    "    \n",
    "    return vectors"
   ]
  },
  {
   "cell_type": "code",
   "execution_count": 12,
   "metadata": {},
   "outputs": [],
   "source": [
    "def cos_sim(vectors_1, vectors_2):\n",
    "    '''Cosine similarity of 2 vectors. Values close to 1 mean similar vectors'''\n",
    "    mean_1 = vectors_1.mean(axis=0)\n",
    "    mean_2 = vectors_2.mean(axis=0)\n",
    "    \n",
    "    return mean_1.dot(mean_2) / (np.linalg.norm(mean_1) * np.linalg.norm(mean_2))"
   ]
  },
  {
   "cell_type": "code",
   "execution_count": 13,
   "metadata": {},
   "outputs": [],
   "source": [
    "def abs_diff(vectors_1, vectors_2):\n",
    "    '''Sum of absolute difference of 2 vectors. Values close to 0 mean similar vectors'''\n",
    "    mean_1 = vectors_1.mean(axis=0)\n",
    "    mean_2 = vectors_2.mean(axis=0)\n",
    "    \n",
    "    mean_1 /= np.sum(mean_1)\n",
    "    mean_2 /= np.sum(mean_2)\n",
    "    \n",
    "    return np.sum(np.abs(mean_1 - mean_2))"
   ]
  },
  {
   "cell_type": "code",
   "execution_count": 14,
   "metadata": {},
   "outputs": [],
   "source": [
    "comp_science_binary = binary_vectors(data, 'comp_science')\n",
    "# comp_science_binary = binary_vectors(data[data['School'] != 'comp_science'], 'engineering')"
   ]
  },
  {
   "cell_type": "code",
   "execution_count": 15,
   "metadata": {},
   "outputs": [
    {
     "data": {
      "text/plain": [
       "0.7330170397301519"
      ]
     },
     "execution_count": 15,
     "metadata": {},
     "output_type": "execute_result"
    }
   ],
   "source": [
    "cos_sim(comp_science_binary[0], comp_science_binary[1])"
   ]
  },
  {
   "cell_type": "code",
   "execution_count": 16,
   "metadata": {},
   "outputs": [
    {
     "data": {
      "text/plain": [
       "0.6276271702710935"
      ]
     },
     "execution_count": 16,
     "metadata": {},
     "output_type": "execute_result"
    }
   ],
   "source": [
    "abs_diff(comp_science_binary[0], comp_science_binary[1])"
   ]
  },
  {
   "cell_type": "code",
   "execution_count": 17,
   "metadata": {},
   "outputs": [],
   "source": [
    "def sample_bootstrap(binary_vecs, f=abs_diff, k=1000):\n",
    "    '''2-sample bootstrap technique'''\n",
    "    size_1 = binary_vecs[0].shape[0]\n",
    "    size_2 = binary_vecs[1].shape[0]\n",
    "    size_total = size_1 + size_2\n",
    "    \n",
    "    stacked = np.vstack([binary_vecs[0], binary_vecs[1]])\n",
    "    \n",
    "    distances = []\n",
    "    \n",
    "    for _ in range(k):\n",
    "        # randomly picking with replacement\n",
    "        indices = np.random.choice(range(size_total), size=size_total)\n",
    "        new = stacked[indices]\n",
    "        new_1 = new[:size_1]\n",
    "        new_2 = new[size_1:]\n",
    "        \n",
    "        distances.append(f(new_1, new_2))\n",
    "        \n",
    "    return distances"
   ]
  },
  {
   "cell_type": "code",
   "execution_count": 18,
   "metadata": {},
   "outputs": [],
   "source": [
    "true_diff = cos_sim(comp_science_binary[0], comp_science_binary[1]) # true original difference"
   ]
  },
  {
   "cell_type": "code",
   "execution_count": 19,
   "metadata": {},
   "outputs": [],
   "source": [
    "diffs = sample_bootstrap(comp_science_binary, f=cos_sim) # list of every differences from the 2-sample bootstrap"
   ]
  },
  {
   "cell_type": "code",
   "execution_count": 20,
   "metadata": {},
   "outputs": [],
   "source": [
    "five, ninety_five = np.percentile(diffs, [5, 95]) # 5 and 95 percentiles"
   ]
  },
  {
   "cell_type": "code",
   "execution_count": 21,
   "metadata": {},
   "outputs": [
    {
     "data": {
      "image/png": "[encoded data removed]",
      "text/plain": [
       "<Figure size 432x288 with 1 Axes>"
      ]
     },
     "metadata": {},
     "output_type": "display_data"
    }
   ],
   "source": [
    "# hist = plt.hist(diffs, bins=np.linspace(0, 1, ), color='r', alpha=0.2)\n",
    "hist = plt.hist(diffs, color='orangered', alpha=0.2)\n",
    "max_hist = np.max(hist[0])\n",
    "plt.plot([true_diff, true_diff], [0, max_hist], color='navy') # blue line\n",
    "plt.plot([np.mean(diffs), np.mean(diffs)], [0, max_hist], color='orangered') # red line\n",
    "plt.plot([five, five], [0, max_hist], color='orangered', linestyle='--') # red dashed line\n",
    "plt.plot([ninety_five, ninety_five], [0, max_hist], color='orangered', linestyle='--') # red dashed line\n",
    "plt.show()"
   ]
  },
  {
   "cell_type": "markdown",
   "metadata": {},
   "source": [
    "If the blue line (representing the true difference) is outside of the interval of confidence of the 2-sample bootstrap, then the null hypothesis can be rejected."
   ]
  }
 ],
 "metadata": {
  "kernelspec": {
   "display_name": "Python 3",
   "language": "python",
   "name": "python3"
  },
  "language_info": {
   "codemirror_mode": {
    "name": "ipython",
    "version": 3
   },
   "file_extension": ".py",
   "mimetype": "text/x-python",
   "name": "python",
   "nbconvert_exporter": "python",
   "pygments_lexer": "ipython3",
   "version": "3.6.5"
  }
 },
 "nbformat": 4,
 "nbformat_minor": 2
}
